{
 "cells": [
  {
   "cell_type": "code",
   "execution_count": 1,
   "metadata": {},
   "outputs": [
    {
     "data": {
      "text/plain": [
       "True"
      ]
     },
     "execution_count": 1,
     "metadata": {},
     "output_type": "execute_result"
    }
   ],
   "source": [
    "from dotenv import load_dotenv\n",
    "\n",
    "load_dotenv()"
   ]
  },
  {
   "cell_type": "markdown",
   "metadata": {},
   "source": [
    "### Load Markdown\n",
    "\n",
    "Using `MarkdownNodeParser` for that"
   ]
  },
  {
   "cell_type": "code",
   "execution_count": 3,
   "metadata": {},
   "outputs": [],
   "source": [
    "from llama_index.core.node_parser import MarkdownNodeParser\n",
    "from llama_index.readers.file import FlatReader\n",
    "from pathlib import Path\n",
    "\n",
    "md_docs = FlatReader().load_data(Path(\"./data/optisol_info.md\"))\n",
    "\n",
    "parser = MarkdownNodeParser()\n",
    "nodes = parser.get_nodes_from_documents(md_docs)"
   ]
  },
  {
   "cell_type": "code",
   "execution_count": 5,
   "metadata": {},
   "outputs": [
    {
     "data": {
      "text/plain": [
       "38"
      ]
     },
     "execution_count": 5,
     "metadata": {},
     "output_type": "execute_result"
    }
   ],
   "source": [
    "len(nodes)"
   ]
  },
  {
   "cell_type": "markdown",
   "metadata": {},
   "source": [
    "### Ingestion with Qdrant"
   ]
  },
  {
   "cell_type": "code",
   "execution_count": 6,
   "metadata": {},
   "outputs": [],
   "source": [
    "from qdrant_client import QdrantClient\n",
    "\n",
    "client = QdrantClient(url=\"http://localhost:6333\")"
   ]
  },
  {
   "cell_type": "code",
   "execution_count": 7,
   "metadata": {},
   "outputs": [],
   "source": [
    "from llama_index.core import VectorStoreIndex, StorageContext\n",
    "from llama_index.vector_stores.qdrant import QdrantVectorStore\n",
    "\n",
    "def create_index(nodes, colection_name):\n",
    "    vector_store = QdrantVectorStore(colection_name, client=client)\n",
    "    storage_context = StorageContext.from_defaults(vector_store=vector_store)\n",
    "    index = VectorStoreIndex(nodes=nodes, storage_context=storage_context)"
   ]
  },
  {
   "cell_type": "code",
   "execution_count": 8,
   "metadata": {},
   "outputs": [],
   "source": [
    "create_index(nodes, \"optisol_first\")"
   ]
  },
  {
   "cell_type": "markdown",
   "metadata": {},
   "source": [
    "### Index to Retriever"
   ]
  },
  {
   "cell_type": "code",
   "execution_count": 9,
   "metadata": {},
   "outputs": [],
   "source": [
    "vector_store = QdrantVectorStore(\"optisol_first\", client=client)\n",
    "index = VectorStoreIndex.from_vector_store(vector_store)"
   ]
  },
  {
   "cell_type": "code",
   "execution_count": 10,
   "metadata": {},
   "outputs": [
    {
     "data": {
      "text/plain": [
       "<llama_index.core.indices.vector_store.base.VectorStoreIndex at 0x7f6a9448ce50>"
      ]
     },
     "execution_count": 10,
     "metadata": {},
     "output_type": "execute_result"
    }
   ],
   "source": [
    "index"
   ]
  },
  {
   "cell_type": "code",
   "execution_count": 11,
   "metadata": {},
   "outputs": [],
   "source": [
    "retriever = index.as_retriever()\n",
    "returned_nodes = retriever.retrieve(\"Who is the current Chief Marketing Officer (CMO) of OptiSol Technologies, and what is their background?\")"
   ]
  },
  {
   "cell_type": "code",
   "execution_count": 13,
   "metadata": {},
   "outputs": [
    {
     "name": "stdout",
     "output_type": "stream",
     "text": [
      "Leadership Team\n",
      "\n",
      "Jane Doe, CEO:  \n",
      "Jane has over 20 years of experience in the IT industry, having held various leadership positions at top technology firms before founding OptiSol Technologies. She is known for her visionary leadership and commitment to driving innovation.\n",
      "\n",
      "John Smith, CFO:  \n",
      "John brings extensive financial expertise to OptiSol, with a background in corporate finance and investment banking. He oversees the company's financial operations and strategic investments.\n",
      "\n",
      "Maria Gonzalez, CTO:  \n",
      "Maria leads the technology strategy at OptiSol, ensuring the company stays at the forefront of technological advancements. She has a strong background in software development and AI technologies.\n",
      "\n",
      "David Lee, COO:  \n",
      "David is responsible for the day-to-day operations at OptiSol, focusing on optimizing processes and improving operational efficiency. He has a wealth of experience in operational management and process improvement.\n",
      "\n",
      "Emma Brown, CMO:  \n",
      "Emma oversees all marketing and communications efforts at OptiSol. With a background in digital marketing and brand management, she drives the company's marketing strategy and brand positioning.\n",
      "\n",
      "---\n",
      "Company Overview  \n",
      "Name: OptiSol Technologies\n",
      "\n",
      "Industry: Information Technology and Services\n",
      "\n",
      "Founded: 2012\n",
      "\n",
      "Headquarters: San Francisco, California, USA\n",
      "\n",
      "CEO: Jane Doe\n",
      "\n",
      "Employees: 750\n",
      "\n",
      "Revenue: $120 million annually\n",
      "\n",
      "Mission Statement: To empower businesses with innovative technology solutions that drive growth, efficiency, and customer satisfaction.\n",
      "\n",
      "---\n"
     ]
    }
   ],
   "source": [
    "for node in returned_nodes:\n",
    "    print(node.text)"
   ]
  },
  {
   "cell_type": "code",
   "execution_count": 14,
   "metadata": {},
   "outputs": [],
   "source": [
    "chat_engine = index.as_chat_engine()"
   ]
  },
  {
   "cell_type": "code",
   "execution_count": 15,
   "metadata": {},
   "outputs": [],
   "source": [
    "response = chat_engine.query(\"Who is the current Chief Marketing Officer (CMO) of OptiSol Technologies, and what is their background?\")"
   ]
  },
  {
   "cell_type": "code",
   "execution_count": 18,
   "metadata": {},
   "outputs": [],
   "source": [
    "source_nodes = response.source_nodes"
   ]
  },
  {
   "cell_type": "code",
   "execution_count": 20,
   "metadata": {},
   "outputs": [
    {
     "name": "stdout",
     "output_type": "stream",
     "text": [
      "Leadership Team\n",
      "\n",
      "Jane Doe, CEO:  \n",
      "Jane has over 20 years of experience in the IT industry, having held various leadership positions at top technology firms before founding OptiSol Technologies. She is known for her visionary leadership and commitment to driving innovation.\n",
      "\n",
      "John Smith, CFO:  \n",
      "John brings extensive financial expertise to OptiSol, with a background in corporate finance and investment banking. He oversees the company's financial operations and strategic investments.\n",
      "\n",
      "Maria Gonzalez, CTO:  \n",
      "Maria leads the technology strategy at OptiSol, ensuring the company stays at the forefront of technological advancements. She has a strong background in software development and AI technologies.\n",
      "\n",
      "David Lee, COO:  \n",
      "David is responsible for the day-to-day operations at OptiSol, focusing on optimizing processes and improving operational efficiency. He has a wealth of experience in operational management and process improvement.\n",
      "\n",
      "Emma Brown, CMO:  \n",
      "Emma oversees all marketing and communications efforts at OptiSol. With a background in digital marketing and brand management, she drives the company's marketing strategy and brand positioning.\n",
      "\n",
      "---\n",
      "Company Overview  \n",
      "Name: OptiSol Technologies\n",
      "\n",
      "Industry: Information Technology and Services\n",
      "\n",
      "Founded: 2012\n",
      "\n",
      "Headquarters: San Francisco, California, USA\n",
      "\n",
      "CEO: Jane Doe\n",
      "\n",
      "Employees: 750\n",
      "\n",
      "Revenue: $120 million annually\n",
      "\n",
      "Mission Statement: To empower businesses with innovative technology solutions that drive growth, efficiency, and customer satisfaction.\n",
      "\n",
      "---\n"
     ]
    }
   ],
   "source": [
    "for node in source_nodes:\n",
    "    print(node.text)"
   ]
  },
  {
   "cell_type": "code",
   "execution_count": null,
   "metadata": {},
   "outputs": [],
   "source": []
  }
 ],
 "metadata": {
  "kernelspec": {
   "display_name": "venv",
   "language": "python",
   "name": "python3"
  },
  "language_info": {
   "codemirror_mode": {
    "name": "ipython",
    "version": 3
   },
   "file_extension": ".py",
   "mimetype": "text/x-python",
   "name": "python",
   "nbconvert_exporter": "python",
   "pygments_lexer": "ipython3",
   "version": "3.9.12"
  }
 },
 "nbformat": 4,
 "nbformat_minor": 2
}
